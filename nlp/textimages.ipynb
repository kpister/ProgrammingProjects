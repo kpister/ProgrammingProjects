{
 "cells": [
  {
   "cell_type": "code",
   "execution_count": 1,
   "metadata": {},
   "outputs": [
    {
     "name": "stdout",
     "output_type": "stream",
     "text": [
      "Model Loaded\n"
     ]
    }
   ],
   "source": [
    "from gensim.models.keyedvectors import KeyedVectors\n",
    "\n",
    "model = KeyedVectors.load_word2vec_format('glove.840B.300d.txt')\n",
    "\n",
    "print(\"Model Loaded\")"
   ]
  },
  {
   "cell_type": "code",
   "execution_count": 42,
   "metadata": {
    "scrolled": false
   },
   "outputs": [],
   "source": [
    "import re\n",
    "\n",
    "para = open(\"paragraph.txt\")\n",
    "words = []\n",
    "for line in para:\n",
    "    sentences = line.split(\".\")\n",
    "    for sentence in sentences:\n",
    "        ws = sentence.split(\" \")\n",
    "        for word in ws:\n",
    "            word = re.sub(r'[^a-z]', '', word.lower())\n",
    "            if word == \"\": continue\n",
    "            words.append(word)\n",
    "        words.append(\".\")\n",
    "            \n",
    "matrix = np.zeros((300,))\n",
    "for word in words:\n",
    "    if word == \".\":\n",
    "        matrix = np.c_[matrix, np.asarray([0. for x in range(300)])]\n",
    "    else:\n",
    "        matrix = np.c_[matrix, np.asarray(model.wv[word])]\n"
   ]
  },
  {
   "cell_type": "code",
   "execution_count": 57,
   "metadata": {},
   "outputs": [],
   "source": [
    "import scipy.misc\n",
    "\n",
    "# Image size\n",
    "width = 300\n",
    "height = len(matrix[0])\n",
    "\n",
    "# Create an empty image\n",
    "img = np.zeros((height, width), dtype=np.float64)\n",
    "\n",
    "# Set the RGB values\n",
    "for y in range(img.shape[0]):\n",
    "    for x in range(img.shape[1]):\n",
    "        img[y][x] = matrix[x][y]\n",
    "\n",
    "# Display the image\n",
    "#scipy.misc.imshow(img)\n",
    "\n",
    "# Save the image\n",
    "scipy.misc.imsave(\"image.png\", img)"
   ]
  },
  {
   "cell_type": "code",
   "execution_count": null,
   "metadata": {
    "collapsed": true
   },
   "outputs": [],
   "source": []
  },
  {
   "cell_type": "code",
   "execution_count": null,
   "metadata": {
    "collapsed": true
   },
   "outputs": [],
   "source": []
  }
 ],
 "metadata": {
  "kernelspec": {
   "display_name": "Python 3",
   "language": "python",
   "name": "python3"
  },
  "language_info": {
   "codemirror_mode": {
    "name": "ipython",
    "version": 3
   },
   "file_extension": ".py",
   "mimetype": "text/x-python",
   "name": "python",
   "nbconvert_exporter": "python",
   "pygments_lexer": "ipython3",
   "version": "3.5.2"
  }
 },
 "nbformat": 4,
 "nbformat_minor": 2
}
